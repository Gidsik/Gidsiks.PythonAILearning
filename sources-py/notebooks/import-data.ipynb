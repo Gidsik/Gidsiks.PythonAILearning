{
 "cells": [
  {
   "cell_type": "code",
   "execution_count": null,
   "metadata": {},
   "outputs": [],
   "source": [
    "import pathlib\n",
    "\n",
    "repo_path = pathlib.Path(\"../../\").resolve()\n",
    "trips_excel_data_path = repo_path.joinpath(\"datasets/trips_data.xlsx\")\n",
    "reviews_csv_data_path = repo_path.joinpath(\"datasets/reviews-dataset.csv\")\n",
    "\n",
    "print(repo_path, \"exists:\", repo_path.exists())\n",
    "print(trips_excel_data_path, \"exists:\", trips_excel_data_path.exists())\n",
    "print(reviews_csv_data_path, \"exists:\", reviews_csv_data_path.exists())"
   ]
  },
  {
   "cell_type": "code",
   "execution_count": null,
   "metadata": {},
   "outputs": [],
   "source": [
    "%store repo_path\n",
    "%store trips_excel_data_path\n",
    "%store reviews_csv_data_path"
   ]
  },
  {
   "cell_type": "code",
   "execution_count": null,
   "metadata": {},
   "outputs": [],
   "source": [
    "import pandas as pd\n",
    "\n",
    "trips_df = pd.read_excel(trips_excel_data_path)\n",
    "\n",
    "trips_df"
   ]
  },
  {
   "cell_type": "code",
   "execution_count": null,
   "metadata": {},
   "outputs": [],
   "source": [
    "import pandas as pd\n",
    "\n",
    "reviews_df = pd.read_csv(reviews_csv_data_path, sep=';')\n",
    "reviews_df = reviews_df.drop_duplicates()\n",
    "\n",
    "reviews_df"
   ]
  },
  {
   "cell_type": "code",
   "execution_count": null,
   "metadata": {},
   "outputs": [],
   "source": [
    "%store trips_df\n",
    "%store reviews_df"
   ]
  }
 ],
 "metadata": {
  "kernelspec": {
   "display_name": ".venv",
   "language": "python",
   "name": "python3"
  },
  "language_info": {
   "codemirror_mode": {
    "name": "ipython",
    "version": 3
   },
   "file_extension": ".py",
   "mimetype": "text/x-python",
   "name": "python",
   "nbconvert_exporter": "python",
   "pygments_lexer": "ipython3",
   "version": "3.12.2"
  }
 },
 "nbformat": 4,
 "nbformat_minor": 2
}
