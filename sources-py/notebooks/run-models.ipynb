{
 "cells": [
  {
   "cell_type": "code",
   "execution_count": null,
   "metadata": {},
   "outputs": [],
   "source": [
    "repo_path = 0\n",
    "\n",
    "%store -r repo_path"
   ]
  },
  {
   "cell_type": "code",
   "execution_count": null,
   "metadata": {},
   "outputs": [],
   "source": [
    "import pickle\n",
    "\n",
    "pipe = pickle.load(open(repo_path.joinpath(\"outputs/models/reviewModelPipe.pkl\"), \"rb\"))\n",
    "\n",
    "reviews = [\n",
    "    \"great food and excellent service!\",\n",
    "    \"bad\",\n",
    "    \"shit\",\n",
    "    \"terrible\",\n",
    "    \"never\",\n",
    "    \"i've never seen something that bad - terrible service\",\n",
    "    \"good\",\n",
    "    \"great\",\n",
    "    \"excellent\",\n",
    "    \"it was awesome\",\n",
    "    \"good good good good good good\",\n",
    "    ]\n",
    "\n",
    "for review in reviews:\n",
    "    predictedMood = pipe.predict_proba([review])[0][1]\n",
    "    print(f'[{review}] - predicted mood: [{predictedMood:.1%}]')"
   ]
  }
 ],
 "metadata": {
  "kernelspec": {
   "display_name": ".venv",
   "language": "python",
   "name": "python3"
  },
  "language_info": {
   "codemirror_mode": {
    "name": "ipython",
    "version": 3
   },
   "file_extension": ".py",
   "mimetype": "text/x-python",
   "name": "python",
   "nbconvert_exporter": "python",
   "pygments_lexer": "ipython3",
   "version": "3.12.2"
  }
 },
 "nbformat": 4,
 "nbformat_minor": 2
}
